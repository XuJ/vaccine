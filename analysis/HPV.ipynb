{
 "cells": [
  {
   "cell_type": "code",
   "execution_count": 1,
   "metadata": {},
   "outputs": [
    {
     "name": "stderr",
     "output_type": "stream",
     "text": [
      "Enabling notebook extension jupyter-js-widgets/extension...\n",
      "      - Validating: ok\n"
     ]
    }
   ],
   "source": [
    "!jupyter nbextension enable --py --sys-prefix widgetsnbextension"
   ]
  },
  {
   "cell_type": "code",
   "execution_count": 21,
   "metadata": {
    "collapsed": true
   },
   "outputs": [],
   "source": [
    "import copy\n",
    "import json\n",
    "import os\n",
    "\n",
    "import pandas as pd\n",
    "from ipyleaflet import GeoJSON, LayersControl, Map, Popup, Marker\n",
    "from ipywidgets import Layout, HTML"
   ]
  },
  {
   "cell_type": "code",
   "execution_count": 22,
   "metadata": {
    "collapsed": true
   },
   "outputs": [],
   "source": [
    "data = pd.read_csv('../analysis/data2.csv', encoding='utf8')\n",
    "hpv_list = ['双价人乳头瘤病毒疫苗', '四价人乳头瘤病毒疫苗', '九价人乳头瘤病毒疫苗']\n",
    "\n",
    "has_data_provs = data.loc[data['疫苗名称'].isin(hpv_list), '省市'].unique()\n",
    "has_9_hpv_provs = data.loc[data['疫苗名称']==hpv_list[2], '省市'].unique()\n",
    "has_4_hpv_provs = data.loc[data['疫苗名称']==hpv_list[1], '省市'].unique()\n",
    "has_2_hpv_provs = data.loc[data['疫苗名称']==hpv_list[0], '省市'].unique()\n",
    "\n",
    "with open(os.path.join('../src', 'zh-mainland-provinces.geojson'), 'r', encoding='utf8') as f:\n",
    "    geo_data = json.load(f)\n",
    "\n",
    "for feature in geo_data['features']:\n",
    "    if feature['properties']['name_local'] is None:\n",
    "        feature['properties']['name_local'] = u\"青海|青海\""
   ]
  },
  {
   "cell_type": "code",
   "execution_count": 38,
   "metadata": {
    "collapsed": true
   },
   "outputs": [],
   "source": [
    "def prov_included(prov, has_provs):\n",
    "    # return True if prov is in has_provs\n",
    "    for a_prov in has_provs:\n",
    "        if prov in a_prov:\n",
    "            return True\n",
    "    return False\n",
    "\n",
    "\n",
    "def prepare_geo_json(geo_data):\n",
    "    geo_data_copy = copy.deepcopy(geo_data)\n",
    "    for idx, feature in enumerate(geo_data_copy['features']):\n",
    "        name = feature['properties']['name_local']\n",
    "        if not name:\n",
    "            continue\n",
    "        # 黑龙江繁体在前 - hardcode\n",
    "        if idx != 30:\n",
    "            prov = name.split(\"|\")[-1]\n",
    "        else:\n",
    "            prov = name.split(\"|\")[0]\n",
    "            \n",
    "        if not prov_included(prov, has_data_provs):  \n",
    "            feature['properties']['style'] = {\n",
    "                'color': 'black',\n",
    "                'weight': 1,\n",
    "                'fillColor': 'grey',\n",
    "                'fillOpacity': 0.3\n",
    "                }\n",
    "        elif prov_included(prov, has_9_hpv_provs): \n",
    "            feature['properties']['style'] = {\n",
    "                'color': 'black',\n",
    "                'weight': 1,\n",
    "                'fillColor': 'red',\n",
    "                'fillOpacity': 0.3\n",
    "                }\n",
    "        elif prov_included(prov, has_4_hpv_provs):  \n",
    "            feature['properties']['style'] = {\n",
    "                'color': 'black',\n",
    "                'weight': 1,\n",
    "                'fillColor': 'yellow',\n",
    "                'fillOpacity': 0.3\n",
    "                }\n",
    "        elif prov_included(prov, has_2_hpv_provs): \n",
    "            feature['properties']['style'] = {\n",
    "                'color': 'black',\n",
    "                'weight': 1,\n",
    "                'fillColor': 'green',\n",
    "                'fillOpacity': 0.3\n",
    "                }\n",
    "        else: \n",
    "            feature['properties']['style'] = {\n",
    "                'color': 'black',\n",
    "                'weight': 1,\n",
    "                'fillColor': 'white',\n",
    "                'fillOpacity': 0.3\n",
    "                }\n",
    "    return geo_data_copy"
   ]
  },
  {
   "cell_type": "code",
   "execution_count": 39,
   "metadata": {},
   "outputs": [
    {
     "data": {
      "application/vnd.jupyter.widget-view+json": {
       "model_id": "e155eb170bf740b491a77ceea41df1ce",
       "version_major": 2,
       "version_minor": 0
      },
      "text/plain": [
       "Map(basemap={'url': 'https://{s}.tile.openstreetmap.org/{z}/{x}/{y}.png', 'max_zoom': 19, 'attribution': 'Map …"
      ]
     },
     "metadata": {},
     "output_type": "display_data"
    }
   ],
   "source": [
    "m = Map(center=(40, 105), zoom=4, layout=Layout(width='100%', height='700px'))\n",
    "\n",
    "message = HTML()\n",
    "message.value = '<ins>图解：</ins><p>红色表示该省提供HPV九价疫苗<br/>黄色表示该省提供HPV四价疫苗<br/>绿色表示该省提供HPV二价疫苗<br/>灰色表示该省暂不提供HPV疫苗。</p>'\n",
    "note = Popup(\n",
    "        location=(20, 135),\n",
    "        child=message,\n",
    "        close_button=True,\n",
    "        auto_close=False,\n",
    ")\n",
    "m.add_layer(note)\n",
    "\n",
    "title = Popup(\n",
    "        location=(50, 105),\n",
    "        child=HTML(value='<h4><b>HPV疫苗全国各省市提供情况</b></h4>'),\n",
    "        close_button=False,\n",
    "        auto_close=False,\n",
    ")\n",
    "m.add_layer(title)\n",
    "geo_json = GeoJSON(data=prepare_geo_json(geo_data),\n",
    "                   name='HPV')\n",
    "m.add_layer(geo_json)\n",
    "m"
   ]
  },
  {
   "cell_type": "code",
   "execution_count": null,
   "metadata": {
    "collapsed": true
   },
   "outputs": [],
   "source": []
  }
 ],
 "metadata": {
  "kernelspec": {
   "display_name": "Python 3",
   "language": "python",
   "name": "python3"
  },
  "language_info": {
   "codemirror_mode": {
    "name": "ipython",
    "version": 3
   },
   "file_extension": ".py",
   "mimetype": "text/x-python",
   "name": "python",
   "nbconvert_exporter": "python",
   "pygments_lexer": "ipython3",
   "version": "3.6.6"
  }
 },
 "nbformat": 4,
 "nbformat_minor": 2
}
